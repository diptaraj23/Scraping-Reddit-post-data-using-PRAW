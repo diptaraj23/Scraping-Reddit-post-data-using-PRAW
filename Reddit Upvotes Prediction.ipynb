{
 "cells": [
  {
   "cell_type": "markdown",
   "id": "70f2fd1f",
   "metadata": {},
   "source": [
    "# PRAW TUTORIAL"
   ]
  },
  {
   "cell_type": "markdown",
   "id": "bc922962",
   "metadata": {},
   "source": [
    "Official Documentation - [https://praw.readthedocs.io/en/stable/](https://praw.readthedocs.io/en/stable/)"
   ]
  },
  {
   "cell_type": "code",
   "execution_count": 69,
   "id": "473d2c03",
   "metadata": {},
   "outputs": [],
   "source": [
    "# Importing Libraries\n",
    "import pandas as pd\n",
    "import numpy as np\n",
    "\n",
    "import praw #\n",
    "import datetime as dt"
   ]
  },
  {
   "cell_type": "code",
   "execution_count": 70,
   "id": "af6e7b0a",
   "metadata": {},
   "outputs": [],
   "source": [
    "reddit = praw.Reddit(client_id='', # Enter the 14 characters long client_id key\n",
    "                     client_secret='', # Enter the 27 characters long client_secret key\n",
    "                     user_agent='', # Enter the app name\n",
    "                     username='', # Enter your Reddit usermname\n",
    "                     password='') # Enter your Reddit password"
   ]
  },
  {
   "cell_type": "markdown",
   "id": "5682a159",
   "metadata": {},
   "source": [
    "After running the above cell using my API credentials I have removed them and have promted as what you need to enter."
   ]
  },
  {
   "cell_type": "code",
   "execution_count": 71,
   "id": "3ae7666a",
   "metadata": {},
   "outputs": [
    {
     "data": {
      "text/plain": [
       "praw.reddit.Reddit"
      ]
     },
     "execution_count": 71,
     "metadata": {},
     "output_type": "execute_result"
    }
   ],
   "source": [
    "type(reddit)"
   ]
  },
  {
   "cell_type": "markdown",
   "id": "d6c7a0e7",
   "metadata": {},
   "source": [
    "## Subreddit\n",
    "Each subreddit has 3 ways to sort the posts\n",
    "\n",
    "* Hot (sorts the posts whose upvotes are increasing fast)\n",
    "* New (sorts the latest posts in that subreddit)\n",
    "* Top (sorts the posts according to the upvotes count from maximum upvotes to minimum)\n",
    "\n",
    "Here we will go through each one of them."
   ]
  },
  {
   "cell_type": "markdown",
   "id": "fe473964",
   "metadata": {},
   "source": [
    "### Scraping data from \"all\"\n",
    "\n",
    "With this fetaure you can pull data from overall Reddit irrespective of any particular subreddit"
   ]
  },
  {
   "cell_type": "code",
   "execution_count": 72,
   "id": "8c38b99a",
   "metadata": {},
   "outputs": [],
   "source": [
    "All = reddit.subreddit('all') #Using the r/all\n",
    "\n",
    "# Data Pulling\n",
    "hot = All.hot(limit=1000) # Pulling data sorted according to \"hot\"\n",
    "new = All.new(limit=1000) # Pulling data according to \"new\"\n",
    "top = All.top(limit = 1000) # Pulling data according to \"top\""
   ]
  },
  {
   "cell_type": "markdown",
   "id": "cb1d17b8",
   "metadata": {},
   "source": [
    "#### HOT"
   ]
  },
  {
   "cell_type": "code",
   "execution_count": 73,
   "id": "5968e7ed",
   "metadata": {},
   "outputs": [],
   "source": [
    "# Creating a dictionary to store the data \n",
    "\n",
    "dict_all_hot = { \"title\":[], # Storing the title of the submission\n",
    "                \"subreddit\":[], # Storing the name of the subreddit where the submission is from\n",
    "                \"score\":[], # Storing the total upvote count of the submission\n",
    "                \"id\":[], # Storing the \"id\" of the submission\n",
    "                \"url\":[], # Storing the \"url\" of the submission\n",
    "                \"comms_num\": [], # number of comments on the submission.\n",
    "                \"created\": [], # Storing the time the submission was created, represented in Unix Time.\n",
    "                \"body\":[], # Storing the submissions’ selftext - an empty string if a link post.\n",
    "               \"upvote_ratio\":[]} # Storing the URL the submission links to, or the permalink if a selfpost."
   ]
  },
  {
   "cell_type": "code",
   "execution_count": 74,
   "id": "3065ab51",
   "metadata": {},
   "outputs": [],
   "source": [
    "# Refer to the cell(above cell) where I created the dictionary to understand which attribute stores which data\n",
    "\n",
    "for submission in hot:\n",
    "    dict_all_hot[\"title\"].append(submission.title)\n",
    "    dict_all_hot['subreddit'].append(submission.subreddit)\n",
    "    dict_all_hot[\"score\"].append(submission.score)\n",
    "    dict_all_hot[\"id\"].append(submission.id)\n",
    "    dict_all_hot[\"url\"].append(submission.url)\n",
    "    dict_all_hot[\"comms_num\"].append(submission.num_comments)\n",
    "    dict_all_hot[\"created\"].append(submission.created)\n",
    "    dict_all_hot[\"body\"].append(submission.selftext)\n",
    "    dict_all_hot[\"upvote_ratio\"].append(submission.upvote_ratio)"
   ]
  },
  {
   "cell_type": "code",
   "execution_count": 75,
   "id": "12c90a15",
   "metadata": {},
   "outputs": [
    {
     "data": {
      "text/html": [
       "<div>\n",
       "<style scoped>\n",
       "    .dataframe tbody tr th:only-of-type {\n",
       "        vertical-align: middle;\n",
       "    }\n",
       "\n",
       "    .dataframe tbody tr th {\n",
       "        vertical-align: top;\n",
       "    }\n",
       "\n",
       "    .dataframe thead th {\n",
       "        text-align: right;\n",
       "    }\n",
       "</style>\n",
       "<table border=\"1\" class=\"dataframe\">\n",
       "  <thead>\n",
       "    <tr style=\"text-align: right;\">\n",
       "      <th></th>\n",
       "      <th>title</th>\n",
       "      <th>subreddit</th>\n",
       "      <th>score</th>\n",
       "      <th>id</th>\n",
       "      <th>url</th>\n",
       "      <th>comms_num</th>\n",
       "      <th>created</th>\n",
       "      <th>body</th>\n",
       "      <th>upvote_ratio</th>\n",
       "    </tr>\n",
       "  </thead>\n",
       "  <tbody>\n",
       "    <tr>\n",
       "      <th>0</th>\n",
       "      <td>Meme People: Then and Now/</td>\n",
       "      <td>Damnthatsinteresting</td>\n",
       "      <td>21011</td>\n",
       "      <td>sybwos</td>\n",
       "      <td>https://i.redd.it/6rurn7c5qaj81.jpg</td>\n",
       "      <td>671</td>\n",
       "      <td>1.645497e+09</td>\n",
       "      <td></td>\n",
       "      <td>0.94</td>\n",
       "    </tr>\n",
       "    <tr>\n",
       "      <th>1</th>\n",
       "      <td>AP Journalist Gives Reports on Ukraine in 6 la...</td>\n",
       "      <td>nextfuckinglevel</td>\n",
       "      <td>35850</td>\n",
       "      <td>syag3b</td>\n",
       "      <td>https://v.redd.it/5znytdcidaj81</td>\n",
       "      <td>1006</td>\n",
       "      <td>1.645493e+09</td>\n",
       "      <td></td>\n",
       "      <td>0.97</td>\n",
       "    </tr>\n",
       "    <tr>\n",
       "      <th>2</th>\n",
       "      <td>New exotic Assault Rifle, Gift of Eden</td>\n",
       "      <td>DestinyTheGame</td>\n",
       "      <td>9937</td>\n",
       "      <td>sycn7d</td>\n",
       "      <td>https://www.reddit.com/r/DestinyTheGame/commen...</td>\n",
       "      <td>261</td>\n",
       "      <td>1.645499e+09</td>\n",
       "      <td>Gift of Eden deez nutz lmao gottem</td>\n",
       "      <td>0.92</td>\n",
       "    </tr>\n",
       "    <tr>\n",
       "      <th>3</th>\n",
       "      <td>I didn't think I'd actually lose in a hide a s...</td>\n",
       "      <td>funny</td>\n",
       "      <td>78960</td>\n",
       "      <td>sy96wt</td>\n",
       "      <td>https://i.redd.it/5dbrqgnh3aj81.jpg</td>\n",
       "      <td>635</td>\n",
       "      <td>1.645489e+09</td>\n",
       "      <td></td>\n",
       "      <td>0.93</td>\n",
       "    </tr>\n",
       "    <tr>\n",
       "      <th>4</th>\n",
       "      <td>Immortal biotch</td>\n",
       "      <td>memes</td>\n",
       "      <td>34984</td>\n",
       "      <td>syb6tj</td>\n",
       "      <td>https://i.redd.it/spmdcdx8kaj81.gif</td>\n",
       "      <td>157</td>\n",
       "      <td>1.645495e+09</td>\n",
       "      <td></td>\n",
       "      <td>0.95</td>\n",
       "    </tr>\n",
       "  </tbody>\n",
       "</table>\n",
       "</div>"
      ],
      "text/plain": [
       "                                               title             subreddit  \\\n",
       "0                         Meme People: Then and Now/  Damnthatsinteresting   \n",
       "1  AP Journalist Gives Reports on Ukraine in 6 la...      nextfuckinglevel   \n",
       "2             New exotic Assault Rifle, Gift of Eden        DestinyTheGame   \n",
       "3  I didn't think I'd actually lose in a hide a s...                 funny   \n",
       "4                                    Immortal biotch                 memes   \n",
       "\n",
       "   score      id                                                url  \\\n",
       "0  21011  sybwos                https://i.redd.it/6rurn7c5qaj81.jpg   \n",
       "1  35850  syag3b                    https://v.redd.it/5znytdcidaj81   \n",
       "2   9937  sycn7d  https://www.reddit.com/r/DestinyTheGame/commen...   \n",
       "3  78960  sy96wt                https://i.redd.it/5dbrqgnh3aj81.jpg   \n",
       "4  34984  syb6tj                https://i.redd.it/spmdcdx8kaj81.gif   \n",
       "\n",
       "   comms_num       created                                body  upvote_ratio  \n",
       "0        671  1.645497e+09                                              0.94  \n",
       "1       1006  1.645493e+09                                              0.97  \n",
       "2        261  1.645499e+09  Gift of Eden deez nutz lmao gottem          0.92  \n",
       "3        635  1.645489e+09                                              0.93  \n",
       "4        157  1.645495e+09                                              0.95  "
      ]
     },
     "execution_count": 75,
     "metadata": {},
     "output_type": "execute_result"
    }
   ],
   "source": [
    "# Storing the Dictionary in the form of a Pandas Dataframe\n",
    "df_all_hot = pd.DataFrame(dict_all_hot)\n",
    "df_all_hot.head()"
   ]
  },
  {
   "cell_type": "code",
   "execution_count": 76,
   "id": "1000bdf4",
   "metadata": {},
   "outputs": [
    {
     "data": {
      "text/plain": [
       "(1000, 9)"
      ]
     },
     "execution_count": 76,
     "metadata": {},
     "output_type": "execute_result"
    }
   ],
   "source": [
    "df_all_hot.shape # Shape of the dataframe"
   ]
  },
  {
   "cell_type": "markdown",
   "id": "f161c77b",
   "metadata": {},
   "source": [
    "#### NEW"
   ]
  },
  {
   "cell_type": "code",
   "execution_count": 77,
   "id": "f63eace0",
   "metadata": {},
   "outputs": [],
   "source": [
    "# Creating a dictionary to store the data \n",
    "\n",
    "dict_all_new = { \"title\":[], # Storing the title of the submission\n",
    "                \"subreddit\":[], # Storing the name of the subreddit where the submission is from\n",
    "                \"score\":[], # Storing the total upvote count of the submission\n",
    "                \"id\":[], # Storing the \"id\" of the submission\n",
    "                \"url\":[], # Storing the \"url\" of the submission\n",
    "                \"comms_num\": [], # number of comments on the submission.\n",
    "                \"created\": [], # Storing the time the submission was created, represented in Unix Time.\n",
    "                \"body\":[], # Storing the submissions’ selftext - an empty string if a link post.\n",
    "               \"upvote_ratio\":[]} # Storing the URL the submission links to, or the permalink if a selfpost."
   ]
  },
  {
   "cell_type": "code",
   "execution_count": 78,
   "id": "ef5fa80d",
   "metadata": {},
   "outputs": [],
   "source": [
    "# Refer to the cell(above cell) where I created the dictionary to understand which attribute stores which data\n",
    "\n",
    "for submission in new:\n",
    "    dict_all_new[\"title\"].append(submission.title)\n",
    "    dict_all_new['subreddit'].append(submission.subreddit)\n",
    "    dict_all_new[\"score\"].append(submission.score)\n",
    "    dict_all_new[\"id\"].append(submission.id)\n",
    "    dict_all_new[\"url\"].append(submission.url)\n",
    "    dict_all_new[\"comms_num\"].append(submission.num_comments)\n",
    "    dict_all_new[\"created\"].append(submission.created)\n",
    "    dict_all_new[\"body\"].append(submission.selftext)\n",
    "    dict_all_new[\"upvote_ratio\"].append(submission.upvote_ratio)"
   ]
  },
  {
   "cell_type": "code",
   "execution_count": 79,
   "id": "5744bcd5",
   "metadata": {},
   "outputs": [
    {
     "data": {
      "text/html": [
       "<div>\n",
       "<style scoped>\n",
       "    .dataframe tbody tr th:only-of-type {\n",
       "        vertical-align: middle;\n",
       "    }\n",
       "\n",
       "    .dataframe tbody tr th {\n",
       "        vertical-align: top;\n",
       "    }\n",
       "\n",
       "    .dataframe thead th {\n",
       "        text-align: right;\n",
       "    }\n",
       "</style>\n",
       "<table border=\"1\" class=\"dataframe\">\n",
       "  <thead>\n",
       "    <tr style=\"text-align: right;\">\n",
       "      <th></th>\n",
       "      <th>title</th>\n",
       "      <th>subreddit</th>\n",
       "      <th>score</th>\n",
       "      <th>id</th>\n",
       "      <th>url</th>\n",
       "      <th>comms_num</th>\n",
       "      <th>created</th>\n",
       "      <th>body</th>\n",
       "      <th>upvote_ratio</th>\n",
       "    </tr>\n",
       "  </thead>\n",
       "  <tbody>\n",
       "    <tr>\n",
       "      <th>0</th>\n",
       "      <td>Stupidly complex elevator help needed</td>\n",
       "      <td>Minecraft</td>\n",
       "      <td>1</td>\n",
       "      <td>sygs8b</td>\n",
       "      <td>https://www.reddit.com/r/Minecraft/comments/sy...</td>\n",
       "      <td>0</td>\n",
       "      <td>1.645512e+09</td>\n",
       "      <td>First things first, I'm on Bedrock, and I need...</td>\n",
       "      <td>1.0</td>\n",
       "    </tr>\n",
       "    <tr>\n",
       "      <th>1</th>\n",
       "      <td>How do hunters go invisible?</td>\n",
       "      <td>destiny2</td>\n",
       "      <td>1</td>\n",
       "      <td>sygs86</td>\n",
       "      <td>https://www.reddit.com/r/destiny2/comments/syg...</td>\n",
       "      <td>0</td>\n",
       "      <td>1.645512e+09</td>\n",
       "      <td>Is it part of their super or something else? I...</td>\n",
       "      <td>1.0</td>\n",
       "    </tr>\n",
       "    <tr>\n",
       "      <th>2</th>\n",
       "      <td>How do people on Reddit feel about culinary ap...</td>\n",
       "      <td>ask</td>\n",
       "      <td>1</td>\n",
       "      <td>sygs7x</td>\n",
       "      <td>https://www.reddit.com/r/ask/comments/sygs7x/h...</td>\n",
       "      <td>1</td>\n",
       "      <td>1.645512e+09</td>\n",
       "      <td></td>\n",
       "      <td>1.0</td>\n",
       "    </tr>\n",
       "    <tr>\n",
       "      <th>3</th>\n",
       "      <td>Happy Twosday</td>\n",
       "      <td>bcstx</td>\n",
       "      <td>1</td>\n",
       "      <td>sygs7v</td>\n",
       "      <td>https://www.reddit.com/r/bcstx/comments/sygs7v...</td>\n",
       "      <td>0</td>\n",
       "      <td>1.645512e+09</td>\n",
       "      <td>Anyone know of a place doing anything for Twos...</td>\n",
       "      <td>1.0</td>\n",
       "    </tr>\n",
       "    <tr>\n",
       "      <th>4</th>\n",
       "      <td>ITAP of a small town appliance store.</td>\n",
       "      <td>itookapicture</td>\n",
       "      <td>1</td>\n",
       "      <td>sygs7q</td>\n",
       "      <td>https://i.redd.it/98z9h27zybj81.jpg</td>\n",
       "      <td>1</td>\n",
       "      <td>1.645512e+09</td>\n",
       "      <td></td>\n",
       "      <td>1.0</td>\n",
       "    </tr>\n",
       "  </tbody>\n",
       "</table>\n",
       "</div>"
      ],
      "text/plain": [
       "                                               title      subreddit  score  \\\n",
       "0              Stupidly complex elevator help needed      Minecraft      1   \n",
       "1                       How do hunters go invisible?       destiny2      1   \n",
       "2  How do people on Reddit feel about culinary ap...            ask      1   \n",
       "3                                      Happy Twosday          bcstx      1   \n",
       "4              ITAP of a small town appliance store.  itookapicture      1   \n",
       "\n",
       "       id                                                url  comms_num  \\\n",
       "0  sygs8b  https://www.reddit.com/r/Minecraft/comments/sy...          0   \n",
       "1  sygs86  https://www.reddit.com/r/destiny2/comments/syg...          0   \n",
       "2  sygs7x  https://www.reddit.com/r/ask/comments/sygs7x/h...          1   \n",
       "3  sygs7v  https://www.reddit.com/r/bcstx/comments/sygs7v...          0   \n",
       "4  sygs7q                https://i.redd.it/98z9h27zybj81.jpg          1   \n",
       "\n",
       "        created                                               body  \\\n",
       "0  1.645512e+09  First things first, I'm on Bedrock, and I need...   \n",
       "1  1.645512e+09  Is it part of their super or something else? I...   \n",
       "2  1.645512e+09                                                      \n",
       "3  1.645512e+09  Anyone know of a place doing anything for Twos...   \n",
       "4  1.645512e+09                                                      \n",
       "\n",
       "   upvote_ratio  \n",
       "0           1.0  \n",
       "1           1.0  \n",
       "2           1.0  \n",
       "3           1.0  \n",
       "4           1.0  "
      ]
     },
     "execution_count": 79,
     "metadata": {},
     "output_type": "execute_result"
    }
   ],
   "source": [
    "# Storing the Dictionary in the form of a Pandas Dataframe\n",
    "df_all_new = pd.DataFrame(dict_all_new)\n",
    "df_all_new.head()"
   ]
  },
  {
   "cell_type": "code",
   "execution_count": 80,
   "id": "9fdf2e70",
   "metadata": {},
   "outputs": [
    {
     "data": {
      "text/plain": [
       "(574, 9)"
      ]
     },
     "execution_count": 80,
     "metadata": {},
     "output_type": "execute_result"
    }
   ],
   "source": [
    "df_all_new.shape # Shape of the dataframe"
   ]
  },
  {
   "cell_type": "markdown",
   "id": "706b1afa",
   "metadata": {},
   "source": [
    "#### TOP"
   ]
  },
  {
   "cell_type": "code",
   "execution_count": 81,
   "id": "5b0f526c",
   "metadata": {},
   "outputs": [],
   "source": [
    "# Creating a dictionary to store the data \n",
    "\n",
    "dict_all_top = { \"title\":[], # Storing the title of the submission\n",
    "                \"subreddit\":[], # Storing the name of the subreddit where the submission is from\n",
    "                \"score\":[], # Storing the total upvote count of the submission\n",
    "                \"id\":[], # Storing the \"id\" of the submission\n",
    "                \"url\":[], # Storing the \"url\" of the submission\n",
    "                \"comms_num\": [], # number of comments on the submission.\n",
    "                \"created\": [], # Storing the time the submission was created, represented in Unix Time.\n",
    "                \"body\":[], # Storing the submissions’ selftext - an empty string if a link post.\n",
    "               \"upvote_ratio\":[]} # Storing the URL the submission links to, or the permalink if a selfpost."
   ]
  },
  {
   "cell_type": "code",
   "execution_count": 82,
   "id": "a7d37019",
   "metadata": {},
   "outputs": [],
   "source": [
    "# Refer to the cell(above cell) where I created the dictionary to understand which attribute stores which data\n",
    "\n",
    "for submission in top:\n",
    "    dict_all_top[\"title\"].append(submission.title)\n",
    "    dict_all_top['subreddit'].append(submission.subreddit)\n",
    "    dict_all_top[\"score\"].append(submission.score)\n",
    "    dict_all_top[\"id\"].append(submission.id)\n",
    "    dict_all_top[\"url\"].append(submission.url)\n",
    "    dict_all_top[\"comms_num\"].append(submission.num_comments)\n",
    "    dict_all_top[\"created\"].append(submission.created)\n",
    "    dict_all_top[\"body\"].append(submission.selftext)\n",
    "    dict_all_top[\"upvote_ratio\"].append(submission.upvote_ratio)"
   ]
  },
  {
   "cell_type": "code",
   "execution_count": 83,
   "id": "5961b6f9",
   "metadata": {},
   "outputs": [
    {
     "data": {
      "text/html": [
       "<div>\n",
       "<style scoped>\n",
       "    .dataframe tbody tr th:only-of-type {\n",
       "        vertical-align: middle;\n",
       "    }\n",
       "\n",
       "    .dataframe tbody tr th {\n",
       "        vertical-align: top;\n",
       "    }\n",
       "\n",
       "    .dataframe thead th {\n",
       "        text-align: right;\n",
       "    }\n",
       "</style>\n",
       "<table border=\"1\" class=\"dataframe\">\n",
       "  <thead>\n",
       "    <tr style=\"text-align: right;\">\n",
       "      <th></th>\n",
       "      <th>title</th>\n",
       "      <th>subreddit</th>\n",
       "      <th>score</th>\n",
       "      <th>id</th>\n",
       "      <th>url</th>\n",
       "      <th>comms_num</th>\n",
       "      <th>created</th>\n",
       "      <th>body</th>\n",
       "      <th>upvote_ratio</th>\n",
       "    </tr>\n",
       "  </thead>\n",
       "  <tbody>\n",
       "    <tr>\n",
       "      <th>0</th>\n",
       "      <td>I’ve found a few funny memories during lockdow...</td>\n",
       "      <td>pics</td>\n",
       "      <td>438835</td>\n",
       "      <td>haucpf</td>\n",
       "      <td>https://i.redd.it/f58v4g8mwh551.jpg</td>\n",
       "      <td>19181</td>\n",
       "      <td>1.592411e+09</td>\n",
       "      <td></td>\n",
       "      <td>0.99</td>\n",
       "    </tr>\n",
       "    <tr>\n",
       "      <th>1</th>\n",
       "      <td>Times Square right now</td>\n",
       "      <td>wallstreetbets</td>\n",
       "      <td>454111</td>\n",
       "      <td>l8rf4k</td>\n",
       "      <td>https://v.redd.it/x64z70f7eie61</td>\n",
       "      <td>13510</td>\n",
       "      <td>1.612030e+09</td>\n",
       "      <td></td>\n",
       "      <td>0.99</td>\n",
       "    </tr>\n",
       "    <tr>\n",
       "      <th>2</th>\n",
       "      <td>Joe Biden elected president of the United States</td>\n",
       "      <td>news</td>\n",
       "      <td>365129</td>\n",
       "      <td>jptqj9</td>\n",
       "      <td>https://apnews.com/article/election-2020-joe-b...</td>\n",
       "      <td>28697</td>\n",
       "      <td>1.604767e+09</td>\n",
       "      <td></td>\n",
       "      <td>0.88</td>\n",
       "    </tr>\n",
       "    <tr>\n",
       "      <th>3</th>\n",
       "      <td>The Senate. Upvote this so that people see it ...</td>\n",
       "      <td>movies</td>\n",
       "      <td>380496</td>\n",
       "      <td>62sjuh</td>\n",
       "      <td>http://i.imgur.com/ChYwfMq.jpg</td>\n",
       "      <td>4905</td>\n",
       "      <td>1.491051e+09</td>\n",
       "      <td></td>\n",
       "      <td>0.96</td>\n",
       "    </tr>\n",
       "    <tr>\n",
       "      <th>4</th>\n",
       "      <td>My cab driver tonight was so excited to share ...</td>\n",
       "      <td>funny</td>\n",
       "      <td>308589</td>\n",
       "      <td>7mjw12</td>\n",
       "      <td>https://i.redd.it/tojcmbvjwk601.jpg</td>\n",
       "      <td>2467</td>\n",
       "      <td>1.514430e+09</td>\n",
       "      <td></td>\n",
       "      <td>0.97</td>\n",
       "    </tr>\n",
       "  </tbody>\n",
       "</table>\n",
       "</div>"
      ],
      "text/plain": [
       "                                               title       subreddit   score  \\\n",
       "0  I’ve found a few funny memories during lockdow...            pics  438835   \n",
       "1                             Times Square right now  wallstreetbets  454111   \n",
       "2   Joe Biden elected president of the United States            news  365129   \n",
       "3  The Senate. Upvote this so that people see it ...          movies  380496   \n",
       "4  My cab driver tonight was so excited to share ...           funny  308589   \n",
       "\n",
       "       id                                                url  comms_num  \\\n",
       "0  haucpf                https://i.redd.it/f58v4g8mwh551.jpg      19181   \n",
       "1  l8rf4k                    https://v.redd.it/x64z70f7eie61      13510   \n",
       "2  jptqj9  https://apnews.com/article/election-2020-joe-b...      28697   \n",
       "3  62sjuh                     http://i.imgur.com/ChYwfMq.jpg       4905   \n",
       "4  7mjw12                https://i.redd.it/tojcmbvjwk601.jpg       2467   \n",
       "\n",
       "        created body  upvote_ratio  \n",
       "0  1.592411e+09               0.99  \n",
       "1  1.612030e+09               0.99  \n",
       "2  1.604767e+09               0.88  \n",
       "3  1.491051e+09               0.96  \n",
       "4  1.514430e+09               0.97  "
      ]
     },
     "execution_count": 83,
     "metadata": {},
     "output_type": "execute_result"
    }
   ],
   "source": [
    "# Storing the Dictionary in the form of a Pandas Dataframe\n",
    "df_all_top = pd.DataFrame(dict_all_top)\n",
    "df_all_top.head()"
   ]
  },
  {
   "cell_type": "code",
   "execution_count": 84,
   "id": "d94a4850",
   "metadata": {},
   "outputs": [
    {
     "data": {
      "text/plain": [
       "(1000, 9)"
      ]
     },
     "execution_count": 84,
     "metadata": {},
     "output_type": "execute_result"
    }
   ],
   "source": [
    "df_all_hot.shape # Shape of the dataframe"
   ]
  },
  {
   "cell_type": "code",
   "execution_count": 85,
   "id": "840bf33a",
   "metadata": {},
   "outputs": [],
   "source": [
    "# Storing them as a .csv files\n",
    "df_all_hot.to_csv(\"df_all_hot.csv\",index=False)\n",
    "df_all_new.to_csv(\"df_all_new.csv\",index=False)\n",
    "df_all_top.to_csv(\"df_all_top.csv\",index=False)"
   ]
  },
  {
   "cell_type": "markdown",
   "id": "239fbd2f",
   "metadata": {},
   "source": [
    "### Scraping data from a subreddit\n",
    "\n",
    "Here we will do the same thing as we did in the previous case with the difference that here we will use a particular subreddit instead of using \"all\" (which gives results irrespective of any subreddit)"
   ]
  },
  {
   "cell_type": "code",
   "execution_count": 86,
   "id": "85c48d29",
   "metadata": {},
   "outputs": [],
   "source": [
    "# Creating variables to store the subreddit name and number of posts\n",
    "subred_name = \"Python\"  # here we are storing \"Python\" as the subred_name\n",
    "lim = 100 #here we are setting the limit as 100, check Reddit official API documentation to see details about it\n",
    "\n",
    "\n",
    "subred = reddit.subreddit(subred_name)\n",
    " \n",
    "\n",
    "# Data Pulling\n",
    "hot = subred.hot(limit=lim) # Pulling data sorted according to \"hot\"\n",
    "new = subred.new(limit=lim) # Pulling data according to \"new\"\n",
    "top = subred.top(limit = lim) # Pulling data according to \"top\""
   ]
  },
  {
   "cell_type": "markdown",
   "id": "5cae2fe2",
   "metadata": {},
   "source": [
    "#### HOT"
   ]
  },
  {
   "cell_type": "code",
   "execution_count": 87,
   "id": "f3ada9b5",
   "metadata": {},
   "outputs": [],
   "source": [
    "# Creating a dictionary to store the data \n",
    "\n",
    "dict_sub_hot = { \"title\":[], # Storing the title of the submission\n",
    "                \"subreddit\":[], # Storing the name of the subreddit where the submission is from\n",
    "                \"score\":[], # Storing the total upvote count of the submission\n",
    "                \"id\":[], # Storing the \"id\" of the submission\n",
    "                \"url\":[], # Storing the \"url\" of the submission\n",
    "                \"comms_num\": [], # number of comments on the submission.\n",
    "                \"created\": [], # Storing the time the submission was created, represented in Unix Time.\n",
    "                \"body\":[], # Storing the submissions’ selftext - an empty string if a link post.\n",
    "               \"upvote_ratio\":[]} # Storing the URL the submission links to, or the permalink if a selfpost."
   ]
  },
  {
   "cell_type": "code",
   "execution_count": 88,
   "id": "2889b5a6",
   "metadata": {},
   "outputs": [],
   "source": [
    "# Refer to the cell(above cell) where I created the dictionary to understand which attribute stores which data\n",
    "\n",
    "for submission in hot:\n",
    "    dict_sub_hot[\"title\"].append(submission.title)\n",
    "    dict_sub_hot['subreddit'].append(submission.subreddit)\n",
    "    dict_sub_hot[\"score\"].append(submission.score)\n",
    "    dict_sub_hot[\"id\"].append(submission.id)\n",
    "    dict_sub_hot[\"url\"].append(submission.url)\n",
    "    dict_sub_hot[\"comms_num\"].append(submission.num_comments)\n",
    "    dict_sub_hot[\"created\"].append(submission.created)\n",
    "    dict_sub_hot[\"body\"].append(submission.selftext)\n",
    "    dict_sub_hot[\"upvote_ratio\"].append(submission.upvote_ratio)"
   ]
  },
  {
   "cell_type": "code",
   "execution_count": 89,
   "id": "916b9328",
   "metadata": {},
   "outputs": [
    {
     "data": {
      "text/html": [
       "<div>\n",
       "<style scoped>\n",
       "    .dataframe tbody tr th:only-of-type {\n",
       "        vertical-align: middle;\n",
       "    }\n",
       "\n",
       "    .dataframe tbody tr th {\n",
       "        vertical-align: top;\n",
       "    }\n",
       "\n",
       "    .dataframe thead th {\n",
       "        text-align: right;\n",
       "    }\n",
       "</style>\n",
       "<table border=\"1\" class=\"dataframe\">\n",
       "  <thead>\n",
       "    <tr style=\"text-align: right;\">\n",
       "      <th></th>\n",
       "      <th>title</th>\n",
       "      <th>subreddit</th>\n",
       "      <th>score</th>\n",
       "      <th>id</th>\n",
       "      <th>url</th>\n",
       "      <th>comms_num</th>\n",
       "      <th>created</th>\n",
       "      <th>body</th>\n",
       "      <th>upvote_ratio</th>\n",
       "    </tr>\n",
       "  </thead>\n",
       "  <tbody>\n",
       "    <tr>\n",
       "      <th>0</th>\n",
       "      <td>Sunday Daily Thread: What's everyone working o...</td>\n",
       "      <td>Python</td>\n",
       "      <td>3</td>\n",
       "      <td>swnk7c</td>\n",
       "      <td>https://www.reddit.com/r/Python/comments/swnk7...</td>\n",
       "      <td>17</td>\n",
       "      <td>1.645315e+09</td>\n",
       "      <td>Tell /r/python what you're working on this wee...</td>\n",
       "      <td>1.00</td>\n",
       "    </tr>\n",
       "    <tr>\n",
       "      <th>1</th>\n",
       "      <td>Tuesday Daily Thread: Advanced questions</td>\n",
       "      <td>Python</td>\n",
       "      <td>1</td>\n",
       "      <td>sy8nnd</td>\n",
       "      <td>https://www.reddit.com/r/Python/comments/sy8nn...</td>\n",
       "      <td>2</td>\n",
       "      <td>1.645488e+09</td>\n",
       "      <td>Have some burning questions on advanced Python...</td>\n",
       "      <td>0.67</td>\n",
       "    </tr>\n",
       "    <tr>\n",
       "      <th>2</th>\n",
       "      <td>Your python 4 dream list.</td>\n",
       "      <td>Python</td>\n",
       "      <td>153</td>\n",
       "      <td>sy369l</td>\n",
       "      <td>https://www.reddit.com/r/Python/comments/sy369...</td>\n",
       "      <td>182</td>\n",
       "      <td>1.645474e+09</td>\n",
       "      <td>So.... If there was to ever be python 4 (not a...</td>\n",
       "      <td>0.82</td>\n",
       "    </tr>\n",
       "    <tr>\n",
       "      <th>3</th>\n",
       "      <td>New Sphinx theme</td>\n",
       "      <td>Python</td>\n",
       "      <td>192</td>\n",
       "      <td>sxtp7h</td>\n",
       "      <td>https://www.reddit.com/r/Python/comments/sxtp7...</td>\n",
       "      <td>23</td>\n",
       "      <td>1.645451e+09</td>\n",
       "      <td>I just released a new Sphinx theme. It was des...</td>\n",
       "      <td>0.94</td>\n",
       "    </tr>\n",
       "    <tr>\n",
       "      <th>4</th>\n",
       "      <td>5% of the 420 python codebases we checked had ...</td>\n",
       "      <td>Python</td>\n",
       "      <td>18</td>\n",
       "      <td>sy915y</td>\n",
       "      <td>https://codereviewdoctor.medium.com/5-of-the-4...</td>\n",
       "      <td>5</td>\n",
       "      <td>1.645489e+09</td>\n",
       "      <td></td>\n",
       "      <td>0.68</td>\n",
       "    </tr>\n",
       "  </tbody>\n",
       "</table>\n",
       "</div>"
      ],
      "text/plain": [
       "                                               title subreddit  score      id  \\\n",
       "0  Sunday Daily Thread: What's everyone working o...    Python      3  swnk7c   \n",
       "1           Tuesday Daily Thread: Advanced questions    Python      1  sy8nnd   \n",
       "2                          Your python 4 dream list.    Python    153  sy369l   \n",
       "3                                   New Sphinx theme    Python    192  sxtp7h   \n",
       "4  5% of the 420 python codebases we checked had ...    Python     18  sy915y   \n",
       "\n",
       "                                                 url  comms_num       created  \\\n",
       "0  https://www.reddit.com/r/Python/comments/swnk7...         17  1.645315e+09   \n",
       "1  https://www.reddit.com/r/Python/comments/sy8nn...          2  1.645488e+09   \n",
       "2  https://www.reddit.com/r/Python/comments/sy369...        182  1.645474e+09   \n",
       "3  https://www.reddit.com/r/Python/comments/sxtp7...         23  1.645451e+09   \n",
       "4  https://codereviewdoctor.medium.com/5-of-the-4...          5  1.645489e+09   \n",
       "\n",
       "                                                body  upvote_ratio  \n",
       "0  Tell /r/python what you're working on this wee...          1.00  \n",
       "1  Have some burning questions on advanced Python...          0.67  \n",
       "2  So.... If there was to ever be python 4 (not a...          0.82  \n",
       "3  I just released a new Sphinx theme. It was des...          0.94  \n",
       "4                                                             0.68  "
      ]
     },
     "execution_count": 89,
     "metadata": {},
     "output_type": "execute_result"
    }
   ],
   "source": [
    "# Storing the Dictionary in the form of a Pandas Dataframe\n",
    "df_sub_hot = pd.DataFrame(dict_sub_hot)\n",
    "df_sub_hot.head()"
   ]
  },
  {
   "cell_type": "code",
   "execution_count": 90,
   "id": "cb643bfb",
   "metadata": {},
   "outputs": [
    {
     "data": {
      "text/plain": [
       "(100, 9)"
      ]
     },
     "execution_count": 90,
     "metadata": {},
     "output_type": "execute_result"
    }
   ],
   "source": [
    "df_sub_hot.shape"
   ]
  },
  {
   "cell_type": "markdown",
   "id": "3a27898a",
   "metadata": {},
   "source": [
    "#### NEW"
   ]
  },
  {
   "cell_type": "code",
   "execution_count": 91,
   "id": "43632383",
   "metadata": {},
   "outputs": [],
   "source": [
    "# Creating a dictionary to store the data \n",
    "\n",
    "dict_sub_new = { \"title\":[], # Storing the title of the submission\n",
    "                \"subreddit\":[], # Storing the name of the subreddit where the submission is from\n",
    "                \"score\":[], # Storing the total upvote count of the submission\n",
    "                \"id\":[], # Storing the \"id\" of the submission\n",
    "                \"url\":[], # Storing the \"url\" of the submission\n",
    "                \"comms_num\": [], # number of comments on the submission.\n",
    "                \"created\": [], # Storing the time the submission was created, represented in Unix Time.\n",
    "                \"body\":[], # Storing the submissions’ selftext - an empty string if a link post.\n",
    "               \"upvote_ratio\":[]} # Storing the URL the submission links to, or the permalink if a selfpost."
   ]
  },
  {
   "cell_type": "code",
   "execution_count": 92,
   "id": "5f33434c",
   "metadata": {},
   "outputs": [],
   "source": [
    "# Refer to the cell(above cell) where I created the dictionary to understand which attribute stores which data\n",
    "\n",
    "for submission in new:\n",
    "    dict_sub_new[\"title\"].append(submission.title)\n",
    "    dict_sub_new['subreddit'].append(submission.subreddit)\n",
    "    dict_sub_new[\"score\"].append(submission.score)\n",
    "    dict_sub_new[\"id\"].append(submission.id)\n",
    "    dict_sub_new[\"url\"].append(submission.url)\n",
    "    dict_sub_new[\"comms_num\"].append(submission.num_comments)\n",
    "    dict_sub_new[\"created\"].append(submission.created)\n",
    "    dict_sub_new[\"body\"].append(submission.selftext)\n",
    "    dict_sub_new[\"upvote_ratio\"].append(submission.upvote_ratio)"
   ]
  },
  {
   "cell_type": "code",
   "execution_count": 93,
   "id": "e5ffe6da",
   "metadata": {},
   "outputs": [
    {
     "data": {
      "text/html": [
       "<div>\n",
       "<style scoped>\n",
       "    .dataframe tbody tr th:only-of-type {\n",
       "        vertical-align: middle;\n",
       "    }\n",
       "\n",
       "    .dataframe tbody tr th {\n",
       "        vertical-align: top;\n",
       "    }\n",
       "\n",
       "    .dataframe thead th {\n",
       "        text-align: right;\n",
       "    }\n",
       "</style>\n",
       "<table border=\"1\" class=\"dataframe\">\n",
       "  <thead>\n",
       "    <tr style=\"text-align: right;\">\n",
       "      <th></th>\n",
       "      <th>title</th>\n",
       "      <th>subreddit</th>\n",
       "      <th>score</th>\n",
       "      <th>id</th>\n",
       "      <th>url</th>\n",
       "      <th>comms_num</th>\n",
       "      <th>created</th>\n",
       "      <th>body</th>\n",
       "      <th>upvote_ratio</th>\n",
       "    </tr>\n",
       "  </thead>\n",
       "  <tbody>\n",
       "    <tr>\n",
       "      <th>0</th>\n",
       "      <td>How to compress Large PDF by 20x times / RAR C...</td>\n",
       "      <td>Python</td>\n",
       "      <td>1</td>\n",
       "      <td>sygr4l</td>\n",
       "      <td>https://youtu.be/EFdjKJ9xP0g</td>\n",
       "      <td>0</td>\n",
       "      <td>1.645512e+09</td>\n",
       "      <td></td>\n",
       "      <td>1.00</td>\n",
       "    </tr>\n",
       "    <tr>\n",
       "      <th>1</th>\n",
       "      <td>How do you find duplicate paragraphs in a text...</td>\n",
       "      <td>Python</td>\n",
       "      <td>0</td>\n",
       "      <td>syghq5</td>\n",
       "      <td>https://www.reddit.com/r/Python/comments/syghq...</td>\n",
       "      <td>2</td>\n",
       "      <td>1.645511e+09</td>\n",
       "      <td>I know how to find repeated words, repeated li...</td>\n",
       "      <td>0.50</td>\n",
       "    </tr>\n",
       "    <tr>\n",
       "      <th>2</th>\n",
       "      <td>Writing Python module in Rust (interface direc...</td>\n",
       "      <td>Python</td>\n",
       "      <td>5</td>\n",
       "      <td>syfhvt</td>\n",
       "      <td>https://www.reddit.com/r/Python/comments/syfhv...</td>\n",
       "      <td>0</td>\n",
       "      <td>1.645508e+09</td>\n",
       "      <td>Hello everyone!  \\n\\n\\n[Wrote an article on ho...</td>\n",
       "      <td>1.00</td>\n",
       "    </tr>\n",
       "    <tr>\n",
       "      <th>3</th>\n",
       "      <td>This is my first Python Project. I am looking ...</td>\n",
       "      <td>Python</td>\n",
       "      <td>2</td>\n",
       "      <td>syeyyq</td>\n",
       "      <td>https://www.reddit.com/r/Python/comments/syeyy...</td>\n",
       "      <td>7</td>\n",
       "      <td>1.645506e+09</td>\n",
       "      <td>[First Genetic Algorithm Code](https://github....</td>\n",
       "      <td>0.75</td>\n",
       "    </tr>\n",
       "    <tr>\n",
       "      <th>4</th>\n",
       "      <td>How to Make Wordle with Python and PyGame in 3...</td>\n",
       "      <td>Python</td>\n",
       "      <td>1</td>\n",
       "      <td>sydvup</td>\n",
       "      <td>https://youtube.com/watch?v=mJ2hPj3kURg&amp;featur...</td>\n",
       "      <td>0</td>\n",
       "      <td>1.645503e+09</td>\n",
       "      <td></td>\n",
       "      <td>0.60</td>\n",
       "    </tr>\n",
       "  </tbody>\n",
       "</table>\n",
       "</div>"
      ],
      "text/plain": [
       "                                               title subreddit  score      id  \\\n",
       "0  How to compress Large PDF by 20x times / RAR C...    Python      1  sygr4l   \n",
       "1  How do you find duplicate paragraphs in a text...    Python      0  syghq5   \n",
       "2  Writing Python module in Rust (interface direc...    Python      5  syfhvt   \n",
       "3  This is my first Python Project. I am looking ...    Python      2  syeyyq   \n",
       "4  How to Make Wordle with Python and PyGame in 3...    Python      1  sydvup   \n",
       "\n",
       "                                                 url  comms_num       created  \\\n",
       "0                       https://youtu.be/EFdjKJ9xP0g          0  1.645512e+09   \n",
       "1  https://www.reddit.com/r/Python/comments/syghq...          2  1.645511e+09   \n",
       "2  https://www.reddit.com/r/Python/comments/syfhv...          0  1.645508e+09   \n",
       "3  https://www.reddit.com/r/Python/comments/syeyy...          7  1.645506e+09   \n",
       "4  https://youtube.com/watch?v=mJ2hPj3kURg&featur...          0  1.645503e+09   \n",
       "\n",
       "                                                body  upvote_ratio  \n",
       "0                                                             1.00  \n",
       "1  I know how to find repeated words, repeated li...          0.50  \n",
       "2  Hello everyone!  \\n\\n\\n[Wrote an article on ho...          1.00  \n",
       "3  [First Genetic Algorithm Code](https://github....          0.75  \n",
       "4                                                             0.60  "
      ]
     },
     "execution_count": 93,
     "metadata": {},
     "output_type": "execute_result"
    }
   ],
   "source": [
    "# Storing the Dictionary in the form of a Pandas Dataframe\n",
    "df_sub_new = pd.DataFrame(dict_sub_new)\n",
    "df_sub_new.head()"
   ]
  },
  {
   "cell_type": "code",
   "execution_count": 94,
   "id": "0dd91a29",
   "metadata": {},
   "outputs": [
    {
     "data": {
      "text/plain": [
       "(100, 9)"
      ]
     },
     "execution_count": 94,
     "metadata": {},
     "output_type": "execute_result"
    }
   ],
   "source": [
    "df_sub_new.shape"
   ]
  },
  {
   "cell_type": "markdown",
   "id": "cfd13c92",
   "metadata": {},
   "source": [
    "#### TOP"
   ]
  },
  {
   "cell_type": "code",
   "execution_count": 95,
   "id": "db19d097",
   "metadata": {},
   "outputs": [],
   "source": [
    "# Creating a dictionary to store the data \n",
    "\n",
    "dict_sub_top = { \"title\":[], # Storing the title of the submission\n",
    "                \"subreddit\":[], # Storing the name of the subreddit where the submission is from\n",
    "                \"score\":[], # Storing the total upvote count of the submission\n",
    "                \"id\":[], # Storing the \"id\" of the submission\n",
    "                \"url\":[], # Storing the \"url\" of the submission\n",
    "                \"comms_num\": [], # number of comments on the submission.\n",
    "                \"created\": [], # Storing the time the submission was created, represented in Unix Time.\n",
    "                \"body\":[], # Storing the submissions’ selftext - an empty string if a link post.\n",
    "               \"upvote_ratio\":[]} # Storing the URL the submission links to, or the permalink if a selfpost."
   ]
  },
  {
   "cell_type": "code",
   "execution_count": 96,
   "id": "44f9a144",
   "metadata": {},
   "outputs": [],
   "source": [
    "# Refer to the cell(above cell) where I created the dictionary to understand which attribute stores which data\n",
    "\n",
    "for submission in top:\n",
    "    dict_sub_top[\"title\"].append(submission.title)\n",
    "    dict_sub_top['subreddit'].append(submission.subreddit)\n",
    "    dict_sub_top[\"score\"].append(submission.score)\n",
    "    dict_sub_top[\"id\"].append(submission.id)\n",
    "    dict_sub_top[\"url\"].append(submission.url)\n",
    "    dict_sub_top[\"comms_num\"].append(submission.num_comments)\n",
    "    dict_sub_top[\"created\"].append(submission.created)\n",
    "    dict_sub_top[\"body\"].append(submission.selftext)\n",
    "    dict_sub_top[\"upvote_ratio\"].append(submission.upvote_ratio)"
   ]
  },
  {
   "cell_type": "code",
   "execution_count": 97,
   "id": "408cde3d",
   "metadata": {},
   "outputs": [
    {
     "data": {
      "text/html": [
       "<div>\n",
       "<style scoped>\n",
       "    .dataframe tbody tr th:only-of-type {\n",
       "        vertical-align: middle;\n",
       "    }\n",
       "\n",
       "    .dataframe tbody tr th {\n",
       "        vertical-align: top;\n",
       "    }\n",
       "\n",
       "    .dataframe thead th {\n",
       "        text-align: right;\n",
       "    }\n",
       "</style>\n",
       "<table border=\"1\" class=\"dataframe\">\n",
       "  <thead>\n",
       "    <tr style=\"text-align: right;\">\n",
       "      <th></th>\n",
       "      <th>title</th>\n",
       "      <th>subreddit</th>\n",
       "      <th>score</th>\n",
       "      <th>id</th>\n",
       "      <th>url</th>\n",
       "      <th>comms_num</th>\n",
       "      <th>created</th>\n",
       "      <th>body</th>\n",
       "      <th>upvote_ratio</th>\n",
       "    </tr>\n",
       "  </thead>\n",
       "  <tbody>\n",
       "    <tr>\n",
       "      <th>0</th>\n",
       "      <td>Lad wrote a Python script to download Alexa vo...</td>\n",
       "      <td>Python</td>\n",
       "      <td>12340</td>\n",
       "      <td>g53lxf</td>\n",
       "      <td>https://i.redd.it/2s0dj8ob12u41.png</td>\n",
       "      <td>149</td>\n",
       "      <td>1.587424e+09</td>\n",
       "      <td></td>\n",
       "      <td>0.98</td>\n",
       "    </tr>\n",
       "    <tr>\n",
       "      <th>1</th>\n",
       "      <td>This post has:</td>\n",
       "      <td>Python</td>\n",
       "      <td>9238</td>\n",
       "      <td>hoolsm</td>\n",
       "      <td>https://www.reddit.com/r/Python/comments/hools...</td>\n",
       "      <td>444</td>\n",
       "      <td>1.594386e+09</td>\n",
       "      <td>9777 upvotes,\\n\\n967 downvotes\\n\\nand 452 comm...</td>\n",
       "      <td>0.91</td>\n",
       "    </tr>\n",
       "    <tr>\n",
       "      <th>2</th>\n",
       "      <td>I redesign the Python logo to make it more modern</td>\n",
       "      <td>Python</td>\n",
       "      <td>7862</td>\n",
       "      <td>gftejm</td>\n",
       "      <td>https://i.redd.it/rxezjyf4ojx41.png</td>\n",
       "      <td>270</td>\n",
       "      <td>1.588945e+09</td>\n",
       "      <td></td>\n",
       "      <td>0.96</td>\n",
       "    </tr>\n",
       "    <tr>\n",
       "      <th>3</th>\n",
       "      <td>Automate the boring stuff with python - tinder</td>\n",
       "      <td>Python</td>\n",
       "      <td>6724</td>\n",
       "      <td>7kpme8</td>\n",
       "      <td>https://gfycat.com/PointlessSimplisticAmerican...</td>\n",
       "      <td>337</td>\n",
       "      <td>1.513644e+09</td>\n",
       "      <td></td>\n",
       "      <td>0.94</td>\n",
       "    </tr>\n",
       "    <tr>\n",
       "      <th>4</th>\n",
       "      <td>Just finished programming and building my own ...</td>\n",
       "      <td>Python</td>\n",
       "      <td>6611</td>\n",
       "      <td>dmkx8a</td>\n",
       "      <td>https://i.redd.it/24ug9g82dju31.jpg</td>\n",
       "      <td>472</td>\n",
       "      <td>1.571943e+09</td>\n",
       "      <td></td>\n",
       "      <td>0.97</td>\n",
       "    </tr>\n",
       "  </tbody>\n",
       "</table>\n",
       "</div>"
      ],
      "text/plain": [
       "                                               title subreddit  score      id  \\\n",
       "0  Lad wrote a Python script to download Alexa vo...    Python  12340  g53lxf   \n",
       "1                                     This post has:    Python   9238  hoolsm   \n",
       "2  I redesign the Python logo to make it more modern    Python   7862  gftejm   \n",
       "3     Automate the boring stuff with python - tinder    Python   6724  7kpme8   \n",
       "4  Just finished programming and building my own ...    Python   6611  dmkx8a   \n",
       "\n",
       "                                                 url  comms_num       created  \\\n",
       "0                https://i.redd.it/2s0dj8ob12u41.png        149  1.587424e+09   \n",
       "1  https://www.reddit.com/r/Python/comments/hools...        444  1.594386e+09   \n",
       "2                https://i.redd.it/rxezjyf4ojx41.png        270  1.588945e+09   \n",
       "3  https://gfycat.com/PointlessSimplisticAmerican...        337  1.513644e+09   \n",
       "4                https://i.redd.it/24ug9g82dju31.jpg        472  1.571943e+09   \n",
       "\n",
       "                                                body  upvote_ratio  \n",
       "0                                                             0.98  \n",
       "1  9777 upvotes,\\n\\n967 downvotes\\n\\nand 452 comm...          0.91  \n",
       "2                                                             0.96  \n",
       "3                                                             0.94  \n",
       "4                                                             0.97  "
      ]
     },
     "execution_count": 97,
     "metadata": {},
     "output_type": "execute_result"
    }
   ],
   "source": [
    "# Storing the Dictionary in the form of a Pandas Dataframe\n",
    "df_sub_top = pd.DataFrame(dict_sub_top)\n",
    "df_sub_top.head()"
   ]
  },
  {
   "cell_type": "code",
   "execution_count": 98,
   "id": "c9a75cf0",
   "metadata": {},
   "outputs": [
    {
     "data": {
      "text/plain": [
       "(100, 9)"
      ]
     },
     "execution_count": 98,
     "metadata": {},
     "output_type": "execute_result"
    }
   ],
   "source": [
    "df_sub_top.shape"
   ]
  },
  {
   "cell_type": "code",
   "execution_count": 99,
   "id": "ee1dfb22",
   "metadata": {},
   "outputs": [],
   "source": [
    "# Storing them as a .csv files\n",
    "df_sub_hot.to_csv(\"df_sub_hot.csv\",index=False)\n",
    "df_sub_new.to_csv(\"df_sub_new.csv\",index=False)\n",
    "df_sub_top.to_csv(\"df_sub_top.csv\",index=False)"
   ]
  },
  {
   "cell_type": "markdown",
   "id": "6e884c3a",
   "metadata": {},
   "source": [
    "# Social Links \n",
    "\n",
    "* LinkedIn --- [https://www.linkedin.com/in/diptaraj23](https://www.linkedin.com/in/diptaraj23)\n",
    "* GitHub --- [https://github.com/diptaraj23](https://github.com/diptaraj23)\n",
    "* Medium --- [https://medium.com/@diptaraj23](https://medium.com/@diptaraj23)"
   ]
  },
  {
   "cell_type": "code",
   "execution_count": null,
   "id": "e0acd206",
   "metadata": {},
   "outputs": [],
   "source": []
  },
  {
   "cell_type": "code",
   "execution_count": null,
   "id": "8dae174f",
   "metadata": {},
   "outputs": [],
   "source": []
  },
  {
   "cell_type": "code",
   "execution_count": null,
   "id": "76a2e5e6",
   "metadata": {},
   "outputs": [],
   "source": []
  },
  {
   "cell_type": "code",
   "execution_count": null,
   "id": "97e2cc3d",
   "metadata": {},
   "outputs": [],
   "source": []
  },
  {
   "cell_type": "code",
   "execution_count": null,
   "id": "b18c8a91",
   "metadata": {},
   "outputs": [],
   "source": []
  },
  {
   "cell_type": "code",
   "execution_count": null,
   "id": "40bc5863",
   "metadata": {},
   "outputs": [],
   "source": []
  },
  {
   "cell_type": "code",
   "execution_count": null,
   "id": "88c196a3",
   "metadata": {},
   "outputs": [],
   "source": []
  },
  {
   "cell_type": "code",
   "execution_count": null,
   "id": "dfdd8e44",
   "metadata": {},
   "outputs": [],
   "source": []
  },
  {
   "cell_type": "code",
   "execution_count": null,
   "id": "6b9448a2",
   "metadata": {},
   "outputs": [],
   "source": []
  },
  {
   "cell_type": "code",
   "execution_count": null,
   "id": "cbb43b46",
   "metadata": {},
   "outputs": [],
   "source": []
  }
 ],
 "metadata": {
  "kernelspec": {
   "display_name": "Python 3",
   "language": "python",
   "name": "python3"
  },
  "language_info": {
   "codemirror_mode": {
    "name": "ipython",
    "version": 3
   },
   "file_extension": ".py",
   "mimetype": "text/x-python",
   "name": "python",
   "nbconvert_exporter": "python",
   "pygments_lexer": "ipython3",
   "version": "3.8.8"
  }
 },
 "nbformat": 4,
 "nbformat_minor": 5
}
